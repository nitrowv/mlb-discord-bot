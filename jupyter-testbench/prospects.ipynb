{
 "cells": [
  {
   "cell_type": "code",
   "execution_count": 25,
   "id": "bcdbaaae",
   "metadata": {},
   "outputs": [
    {
     "name": "stdout",
     "output_type": "stream",
     "text": [
      "0.394\n",
      "  NaN\n",
      "  NaN\n",
      "0.205\n",
      "  NaN\n",
      "  NaN\n",
      "0.100\n",
      "  NaN\n",
      "0.314\n"
     ]
    }
   ],
   "source": [
    "from pybaseball import top_prospects\n",
    "data = top_prospects(\"marlins\")\n",
    "avg = data.iloc[0:9,21]\n",
    "avg = avg.to_string(index = False, header = False)\n",
    "print(avg)"
   ]
  },
  {
   "cell_type": "code",
   "execution_count": null,
   "id": "4158fea9",
   "metadata": {},
   "outputs": [],
   "source": []
  }
 ],
 "metadata": {
  "kernelspec": {
   "display_name": "Python 3 (ipykernel)",
   "language": "python",
   "name": "python3"
  },
  "language_info": {
   "codemirror_mode": {
    "name": "ipython",
    "version": 3
   },
   "file_extension": ".py",
   "mimetype": "text/x-python",
   "name": "python",
   "nbconvert_exporter": "python",
   "pygments_lexer": "ipython3",
   "version": "3.9.7"
  }
 },
 "nbformat": 4,
 "nbformat_minor": 5
}
