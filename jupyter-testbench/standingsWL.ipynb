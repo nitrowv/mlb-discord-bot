{
 "cells": [
  {
   "cell_type": "code",
   "execution_count": 5,
   "id": "2ded8675-97cc-4537-8cbc-9ba3edb823c8",
   "metadata": {},
   "outputs": [
    {
     "name": "stdout",
     "output_type": "stream",
     "text": [
      "91-71\n",
      "89-73\n",
      "84-78\n",
      "75-87\n",
      "\n"
     ]
    }
   ],
   "source": [
    "from pybaseball import standings\n",
    "data = standings(2019)[4]\n",
    "i = 0\n",
    "j = 1\n",
    "winLoss =\"\"\n",
    "while (i <4):\n",
    "    wins = data.iloc[i:j,1:2]\n",
    "    losses = data.iloc[i:j,2:3]\n",
    "    wins = wins.to_string(index = False, header = False)\n",
    "    losses = losses.to_string(index = False, header = False)\n",
    "    winLoss += wins + \"-\" + losses + \"\\n\"\n",
    "    i += 1\n",
    "    j += 1\n",
    "print(winLoss)"
   ]
  },
  {
   "cell_type": "code",
   "execution_count": null,
   "id": "b4153f2b-3222-454b-b92d-b141cfcf5f14",
   "metadata": {},
   "outputs": [],
   "source": []
  }
 ],
 "metadata": {
  "kernelspec": {
   "display_name": "Python 3 (ipykernel)",
   "language": "python",
   "name": "python3"
  },
  "language_info": {
   "codemirror_mode": {
    "name": "ipython",
    "version": 3
   },
   "file_extension": ".py",
   "mimetype": "text/x-python",
   "name": "python",
   "nbconvert_exporter": "python",
   "pygments_lexer": "ipython3",
   "version": "3.9.7"
  }
 },
 "nbformat": 4,
 "nbformat_minor": 5
}
